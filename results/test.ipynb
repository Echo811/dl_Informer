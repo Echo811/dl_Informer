{
 "cells": [
  {
   "cell_type": "code",
   "execution_count": null,
   "metadata": {},
   "outputs": [],
   "source": [
    "import numpy as np\n",
    "path_name = 'results/informer_Seismic-ACC_ftS_sl96_ll64_pl8_dm512_nh8_el2_dl1_df2048_atprob_fc5_ebtimeF_dtTrue_mxTrue_\\'Exp\\'_0'\n",
    "pre_arr = np.load(f'../results/{path_name}/pred.npy')\n",
    "true_arr = np.load(f'../results/{path_name}/true.npy')"
   ]
  }
 ],
 "metadata": {
  "language_info": {
   "name": "python"
  }
 },
 "nbformat": 4,
 "nbformat_minor": 2
}
