{
 "cells": [
  {
   "cell_type": "code",
   "execution_count": 8,
   "outputs": [],
   "source": [
    "import sys\n",
    "\n",
    "import numpy as np\n",
    "import pandas as pd\n",
    "import torch\n",
    "\n",
    "sys.path.append('..')\n",
    "\n",
    "'''\n",
    "    sys.path.append('..') 的作用是将上一级目录（父目录）添加到 Python 解释器的搜索路径中。这样做的原因是为了确保在运行时能够正确地找到你的模块或类定义。\n",
    "    当你使用 pickle.load 加载对象时，Python 解释器需要找到与该对象关联的类定义。如果你的类定义在上一级目录中，而当前工作目录或默认的模块搜索路径中找不到该定义，就会导致 ModuleNotFoundError。\n",
    "\n",
    "    通过将上一级目录添加到 sys.path，你扩展了 Python 解释器的搜索路径，使其包括了上一级目录。这样，当你执行 pickle.load 时，Python 解释器就能够找到并加载与对象相关的类定义，从而成功地反序列化对象。\n",
    "'''\n",
    "\n",
    "import pickle\n",
    "\n",
    "\n",
    "with open('./obj/train_data.txt', 'rb') as exp_f:\n",
    "    # 使用pickle.load反序列化对象\n",
    "    train_data = pickle.load(exp_f)\n",
    "with open('./obj/testdata.txt', 'rb') as exp_f:\n",
    "    # 使用pickle.load反序列化对象\n",
    "    testdata = pickle.load(exp_f)\n",
    "with open('./obj/predata.txt', 'rb') as exp_f:\n",
    "    # 使用pickle.load反序列化对象\n",
    "    predata = pickle.load(exp_f)"
   ],
   "metadata": {
    "collapsed": false
   }
  },
  {
   "cell_type": "code",
   "execution_count": 46,
   "outputs": [
    {
     "data": {
      "text/plain": "7897"
     },
     "execution_count": 46,
     "metadata": {},
     "output_type": "execute_result"
    }
   ],
   "source": [
    "import numpy as np\n",
    "\n",
    "seq_x, seq_y, seq_x_mark, seq_y_mark = train_data.__getitem__(100)\n",
    "seq_x.shape, seq_y.shape, seq_x_mark.shape, seq_y_mark.shape\n",
    "train_data.__len__()"
   ],
   "metadata": {
    "collapsed": false
   }
  },
  {
   "cell_type": "code",
   "execution_count": 48,
   "outputs": [
    {
     "ename": "AttributeError",
     "evalue": "'Dataset_ETT_hour' object has no attribute 'data_x__len__'",
     "output_type": "error",
     "traceback": [
      "\u001B[1;31m---------------------------------------------------------------------------\u001B[0m",
      "\u001B[1;31mAttributeError\u001B[0m                            Traceback (most recent call last)",
      "\u001B[1;32m<ipython-input-48-a52f1be393f9>\u001B[0m in \u001B[0;36m<module>\u001B[1;34m\u001B[0m\n\u001B[1;32m----> 1\u001B[1;33m \u001B[0mtrain_data\u001B[0m\u001B[1;33m.\u001B[0m\u001B[0mdata_x__len__\u001B[0m\u001B[1;33m(\u001B[0m\u001B[1;33m)\u001B[0m\u001B[1;33m\u001B[0m\u001B[1;33m\u001B[0m\u001B[0m\n\u001B[0m",
      "\u001B[1;31mAttributeError\u001B[0m: 'Dataset_ETT_hour' object has no attribute 'data_x__len__'"
     ]
    }
   ],
   "source": [
    "train_data.data_x"
   ],
   "metadata": {
    "collapsed": false
   }
  },
  {
   "cell_type": "code",
   "execution_count": 5,
   "outputs": [
    {
     "name": "stdout",
     "output_type": "stream",
     "text": [
      "seq_x.shape = (720, 7)\n",
      "seq_y.shape = (192, 7)\n",
      "seq_x_mark.shape = (720, 4)\n",
      "seq_y_mark.shape = (192, 4)\n",
      "\n",
      "predata.seq_len = 720\n",
      "predata.label_len = 168\n",
      "predata.pred_len = 24\n"
     ]
    }
   ],
   "source": [
    "seq_x, seq_y, seq_x_mark, seq_y_mark = train_data.__getitem__(0)\n",
    "print(f'seq_x.shape = {seq_x.shape}\\n'\n",
    "      f'seq_y.shape = {seq_y.shape}\\n'\n",
    "      f'seq_x_mark.shape = {seq_x_mark.shape}\\n'\n",
    "      f'seq_y_mark.shape = {seq_y_mark.shape}\\n\\n'\n",
    "      f'predata.seq_len = {predata.seq_len}\\n'\n",
    "      f'predata.label_len = {predata.label_len}\\n'\n",
    "      f'predata.pred_len = {predata.pred_len}')"
   ],
   "metadata": {
    "collapsed": false
   }
  },
  {
   "cell_type": "code",
   "execution_count": 10,
   "outputs": [
    {
     "data": {
      "text/plain": "((720, 7), (720, 7))"
     },
     "execution_count": 10,
     "metadata": {},
     "output_type": "execute_result"
    }
   ],
   "source": [
    "predata.data_x.shape, predata.data_y.shape"
   ],
   "metadata": {
    "collapsed": false
   }
  },
  {
   "cell_type": "code",
   "execution_count": 11,
   "outputs": [
    {
     "data": {
      "text/plain": "((1424, 7), (1424, 7))"
     },
     "execution_count": 11,
     "metadata": {},
     "output_type": "execute_result"
    }
   ],
   "source": [
    "train_data.data_x.shape, train_data.data_y.shape"
   ],
   "metadata": {
    "collapsed": false
   }
  },
  {
   "cell_type": "code",
   "execution_count": 13,
   "outputs": [
    {
     "data": {
      "text/plain": "<data.data_loader.Dataset_Custom at 0x1ce4aa5b2e8>"
     },
     "execution_count": 13,
     "metadata": {},
     "output_type": "execute_result"
    }
   ],
   "source": [
    "testdata.data_x.shape, testdata.data_y.shape"
   ],
   "metadata": {
    "collapsed": false
   }
  },
  {
   "cell_type": "code",
   "execution_count": 15,
   "outputs": [
    {
     "data": {
      "text/plain": "<data.data_loader.Dataset_Custom at 0x1ce4aa66c88>"
     },
     "execution_count": 15,
     "metadata": {},
     "output_type": "execute_result"
    }
   ],
   "source": [],
   "metadata": {
    "collapsed": false
   }
  },
  {
   "cell_type": "code",
   "execution_count": null,
   "outputs": [],
   "source": [],
   "metadata": {
    "collapsed": false
   }
  }
 ],
 "metadata": {
  "kernelspec": {
   "name": "pt",
   "language": "python",
   "display_name": "pt"
  },
  "language_info": {
   "codemirror_mode": {
    "name": "ipython",
    "version": 2
   },
   "file_extension": ".py",
   "mimetype": "text/x-python",
   "name": "python",
   "nbconvert_exporter": "python",
   "pygments_lexer": "ipython2",
   "version": "2.7.6"
  }
 },
 "nbformat": 4,
 "nbformat_minor": 0
}
