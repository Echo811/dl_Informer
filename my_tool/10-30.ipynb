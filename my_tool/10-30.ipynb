{
 "cells": [
  {
   "cell_type": "code",
   "execution_count": 2,
   "outputs": [],
   "source": [
    "import sys\n",
    "\n",
    "import numpy as np\n",
    "import pandas as pd\n",
    "import torch\n",
    "\n",
    "sys.path.append('..')\n",
    "\n",
    "'''\n",
    "    sys.path.append('..') 的作用是将上一级目录（父目录）添加到 Python 解释器的搜索路径中。这样做的原因是为了确保在运行时能够正确地找到你的模块或类定义。\n",
    "    当你使用 pickle.load 加载对象时，Python 解释器需要找到与该对象关联的类定义。如果你的类定义在上一级目录中，而当前工作目录或默认的模块搜索路径中找不到该定义，就会导致 ModuleNotFoundError。\n",
    "\n",
    "    通过将上一级目录添加到 sys.path，你扩展了 Python 解释器的搜索路径，使其包括了上一级目录。这样，当你执行 pickle.load 时，Python 解释器就能够找到并加载与对象相关的类定义，从而成功地反序列化对象。\n",
    "'''\n",
    "\n",
    "import pickle\n",
    "\n",
    "\n",
    "with open('./obj/train_data.txt', 'rb') as exp_f:\n",
    "    # 使用pickle.load反序列化对象\n",
    "    train_data = pickle.load(exp_f)\n",
    "with open('./obj/testdata.txt', 'rb') as exp_f:\n",
    "    # 使用pickle.load反序列化对象\n",
    "    testdata = pickle.load(exp_f)\n",
    "with open('./obj/predata.txt', 'rb') as exp_f:\n",
    "    # 使用pickle.load反序列化对象\n",
    "    predata = pickle.load(exp_f)"
   ],
   "metadata": {
    "collapsed": false
   }
  },
  {
   "cell_type": "code",
   "execution_count": 46,
   "outputs": [
    {
     "data": {
      "text/plain": "7897"
     },
     "execution_count": 46,
     "metadata": {},
     "output_type": "execute_result"
    }
   ],
   "source": [
    "import numpy as np\n",
    "\n",
    "seq_x, seq_y, seq_x_mark, seq_y_mark = train_data.__getitem__(100)\n",
    "seq_x.shape, seq_y.shape, seq_x_mark.shape, seq_y_mark.shape\n",
    "train_data.__len__()"
   ],
   "metadata": {
    "collapsed": false
   }
  },
  {
   "cell_type": "code",
   "execution_count": 49,
   "outputs": [
    {
     "data": {
      "text/plain": "array([[-0.36312285, -0.0057598 , -0.63071223, ...,  1.38857471,\n         0.87514257,  1.46055158],\n       [-0.38617567,  0.02629596, -0.65010053, ...,  1.32897674,\n         0.92433047,  1.16152666],\n       [-0.47838673, -0.13398305, -0.68869591, ...,  0.97236495,\n         0.68156452,  1.16152666],\n       ...,\n       [ 0.07470776, -0.71050923,  0.07107161, ...,  0.49655723,\n        -2.31413576,  0.42562442],\n       [ 0.17844536, -0.61434181,  0.21276925, ...,  0.31776309,\n        -2.16974552,  0.47161139],\n       [ 0.35134102, -0.45406273,  0.27727609, ..., -0.00953795,\n        -2.26653455,  0.39489377]])"
     },
     "execution_count": 49,
     "metadata": {},
     "output_type": "execute_result"
    }
   ],
   "source": [
    "train_data.data_x"
   ],
   "metadata": {
    "collapsed": false
   }
  },
  {
   "cell_type": "code",
   "execution_count": 50,
   "outputs": [
    {
     "name": "stdout",
     "output_type": "stream",
     "text": [
      "seq_x.shape = (720, 7)\n",
      "seq_y.shape = (168, 7)\n",
      "seq_x_mark.shape = (720, 4)\n",
      "seq_y_mark.shape = (192, 4)\n",
      "\n",
      "predata.seq_len = 720\n",
      "predata.label_len = 168\n",
      "predata.pred_len = 24\n"
     ]
    }
   ],
   "source": [
    "seq_x, seq_y, seq_x_mark, seq_y_mark = predata.__getitem__(0)\n",
    "print(f'seq_x.shape = {seq_x.shape}\\n'\n",
    "      f'seq_y.shape = {seq_y.shape}\\n'\n",
    "      f'seq_x_mark.shape = {seq_x_mark.shape}\\n'\n",
    "      f'seq_y_mark.shape = {seq_y_mark.shape}\\n\\n'\n",
    "      f'predata.seq_len = {predata.seq_len}\\n'\n",
    "      f'predata.label_len = {predata.label_len}\\n'\n",
    "      f'predata.pred_len = {predata.pred_len}')"
   ],
   "metadata": {
    "collapsed": false
   }
  },
  {
   "cell_type": "code",
   "execution_count": 51,
   "outputs": [
    {
     "data": {
      "text/plain": "((720, 7), (720, 7))"
     },
     "execution_count": 51,
     "metadata": {},
     "output_type": "execute_result"
    }
   ],
   "source": [
    "predata.data_x.shape, predata.data_y.shape"
   ],
   "metadata": {
    "collapsed": false
   }
  },
  {
   "cell_type": "code",
   "execution_count": 11,
   "outputs": [
    {
     "data": {
      "text/plain": "((1424, 7), (1424, 7))"
     },
     "execution_count": 11,
     "metadata": {},
     "output_type": "execute_result"
    }
   ],
   "source": [
    "train_data.data_x.shape, train_data.data_y.shape"
   ],
   "metadata": {
    "collapsed": false
   }
  },
  {
   "cell_type": "code",
   "execution_count": 13,
   "outputs": [
    {
     "data": {
      "text/plain": "<data.data_loader.Dataset_Custom at 0x1ce4aa5b2e8>"
     },
     "execution_count": 13,
     "metadata": {},
     "output_type": "execute_result"
    }
   ],
   "source": [
    "testdata.data_x.shape, testdata.data_y.shape"
   ],
   "metadata": {
    "collapsed": false
   }
  },
  {
   "cell_type": "code",
   "execution_count": 15,
   "outputs": [
    {
     "data": {
      "text/plain": "<data.data_loader.Dataset_Custom at 0x1ce4aa66c88>"
     },
     "execution_count": 15,
     "metadata": {},
     "output_type": "execute_result"
    }
   ],
   "source": [],
   "metadata": {
    "collapsed": false
   }
  },
  {
   "cell_type": "code",
   "execution_count": 52,
   "outputs": [
    {
     "data": {
      "text/plain": "<data.data_loader.Dataset_Pred at 0x29210caa860>"
     },
     "execution_count": 52,
     "metadata": {},
     "output_type": "execute_result"
    }
   ],
   "source": [
    "predata"
   ],
   "metadata": {
    "collapsed": false
   }
  },
  {
   "cell_type": "markdown",
   "source": [
    "## 自定义数据集"
   ],
   "metadata": {
    "collapsed": false
   }
  },
  {
   "cell_type": "code",
   "execution_count": 5,
   "outputs": [],
   "source": [
    "import pickle\n",
    "\n",
    "\n",
    "with open('./obj01/train_data.txt', 'rb') as exp_f:\n",
    "    # 使用pickle.load反序列化对象\n",
    "    train_data = pickle.load(exp_f)\n",
    "with open('./obj01/testdata.txt', 'rb') as exp_f:\n",
    "    # 使用pickle.load反序列化对象\n",
    "    testdata = pickle.load(exp_f)\n",
    "with open('./obj01/predata.txt', 'rb') as exp_f:\n",
    "    # 使用pickle.load反序列化对象\n",
    "    predata = pickle.load(exp_f)"
   ],
   "metadata": {
    "collapsed": false
   }
  },
  {
   "cell_type": "code",
   "execution_count": 6,
   "outputs": [
    {
     "data": {
      "text/plain": "(1285, 396, 1)"
     },
     "execution_count": 6,
     "metadata": {},
     "output_type": "execute_result"
    }
   ],
   "source": [
    "train_data.__len__(), testdata.__len__(), predata.__len__()"
   ],
   "metadata": {
    "collapsed": false
   }
  },
  {
   "cell_type": "code",
   "execution_count": 18,
   "outputs": [
    {
     "data": {
      "text/plain": "array([[-0.91801424, -0.91279237, -0.90137248, -0.91694797, -0.79308079,\n        -0.69723595, -0.91376193],\n       [-0.90259881, -0.91279237, -0.89928568, -0.92515805, -0.93306024,\n        -0.76491736, -0.9178687 ],\n       [-0.91287576, -0.88546497, -0.93163113, -0.91900049,  0.09257061,\n        -0.26748919, -0.91478862],\n       [-0.91698654, -0.85611332, -0.92850093, -0.92618431, -0.20151372,\n        -0.40647374, -0.92505555],\n       [-0.94370662, -0.96137441, -0.93058773, -0.93849943, -0.92093743,\n        -0.76071791, -0.94866948],\n       [-0.96631592, -0.96744717, -0.96606339, -0.93336813, -0.90719263,\n        -0.7550632 , -0.93840255],\n       [-0.92829119, -0.93303489, -0.96501999, -0.97236602, -0.64868153,\n        -0.63260948, -0.97639017],\n       [-0.84299248, -0.87635583, -0.9118065 , -0.93542065, -0.63625555,\n        -0.62051883, -0.92813562],\n       [-0.7731092 , -0.789313  , -0.83876838, -0.85639863, -0.47428701,\n        -0.53098889, -0.84497353],\n       [-0.75666607, -0.781216  , -0.77616427, -0.78661295, -0.73361867,\n        -0.65792436, -0.78953213],\n       [-0.7494722 , -0.77109474, -0.75320943, -0.75685141, -0.77609107,\n        -0.67774209, -0.76283812],\n       [-0.77721998, -0.76502198, -0.74486222, -0.74761506, -0.32788035,\n        -0.44463644, -0.74641104],\n       [-0.83682631, -0.80955552, -0.81685694, -0.77737661, -0.45612479,\n        -0.51949128, -0.7792652 ],\n       [-0.84710326, -0.8712952 , -0.83876838, -0.84613603, -0.51529761,\n        -0.55543718, -0.8490803 ],\n       [-0.80599545, -0.83182229, -0.8492024 , -0.86255619,  0.08756072,\n        -0.25808365, -0.86653407],\n       [-0.80702314, -0.83384655, -0.79911911, -0.82047953, -0.73956818,\n        -0.66395109, -0.82238629],\n       [-0.79982928, -0.82979804, -0.81685694, -0.81226945, -0.70578861,\n        -0.64843347, -0.81930621],\n       [-0.75461068, -0.77008261, -0.7918153 , -0.81637449, -0.67549545,\n        -0.62960049, -0.81519944],\n       [-0.75872146, -0.76907048, -0.74173201, -0.75890393, -0.80677251,\n        -0.69368644, -0.75873135],\n       [-0.73405677, -0.75085222, -0.74277541, -0.76095645, -0.82917666,\n        -0.70488644, -0.76078474],\n       [-0.67650583, -0.71239143, -0.72399418, -0.73837872, -0.33789152,\n        -0.44600416, -0.73614412],\n       [-0.67342275, -0.69214891, -0.6739109 , -0.6901445 , -0.75387436,\n        -0.66031623, -0.69096964],\n       [-0.71350287, -0.7306097 , -0.69477893, -0.6952758 , -0.98156344,\n        -0.7821025 , -0.69815649],\n       [-0.71761365, -0.73870671, -0.71564697, -0.70759092, -0.97401633,\n        -0.77870618, -0.70431665],\n       [-0.71761365, -0.72048844, -0.70729975, -0.71477474, -0.90454208,\n        -0.7420228 , -0.71150349],\n       [-0.74536142, -0.7538886 , -0.71669037, -0.71785352, -0.90213445,\n        -0.74134879, -0.72587719],\n       [-0.73405677, -0.75894923, -0.76260005, -0.74864132, -0.91279068,\n        -0.7483362 , -0.7525712 ],\n       [-0.78544154, -0.79133726, -0.83355137, -0.79482303, -0.58788816,\n        -0.58505655, -0.79055882],\n       [-0.69500435, -0.7306097 , -0.77407747, -0.78148165, -0.50224426,\n        -0.5351402 , -0.7792652 ],\n       [-0.71350287, -0.74073096, -0.70103934, -0.71169596, -0.62339013,\n        -0.59481004, -0.7104768 ],\n       [-0.70117052, -0.73364608, -0.70312615, -0.69322328, -0.8462209 ,\n        -0.71131363, -0.70226326],\n       [-0.7504999 , -0.73567033, -0.71147336, -0.71272222, -0.62147024,\n        -0.59278144, -0.70842342],\n       [-0.69294896, -0.72858545, -0.72399418, -0.73837872, -0.82702533,\n        -0.70194966, -0.72587719],\n       [-0.69500435, -0.69822167, -0.68747512, -0.69630206, -0.69240341,\n        -0.62878205, -0.70226326],\n       [-0.74433373, -0.72858545, -0.71564697, -0.71785352, -0.81639157,\n        -0.69526424, -0.71253019],\n       [-0.75563838, -0.77109474, -0.75633964, -0.74864132, -0.64166855,\n        -0.60832313, -0.74949112],\n       [-0.74638912, -0.76907048, -0.77616427, -0.7465888 , -0.77009039,\n        -0.67518828, -0.74949112],\n       [-0.76694302, -0.77919174, -0.9138933 , -0.74864132, -0.02662954,\n        -0.301912  , -0.75975804],\n       [-0.64156419, -0.67797915, -0.83563817, -0.77942913,  0.11970683,\n        -0.22466748, -0.81109267],\n       [-0.64978576, -0.66988214, -0.64991266, -0.66654052, -0.86992427,\n        -0.72015239, -0.67043579],\n       [-0.69089357, -0.65368813, -0.69269213, -0.66140922, -0.49233781,\n        -0.51963133, -0.66222225],\n       [-0.59840099, -0.63546986, -0.63217483, -0.62549012, -0.72025642,\n        -0.63743261, -0.60678085],\n       [-0.61484411, -0.54437853, -0.67182409, -0.7055384 ,  0.32041797,\n        -0.0642677 , -0.60267408],\n       [-0.5737363 , -0.57676656, -0.66765049, -0.61522752, -0.53590572,\n        -0.53647072, -0.61294101],\n       [-0.51310228, -0.52312388, -0.56957072, -0.59470232, -0.5820558 ,\n        -0.55504328, -0.58008685],\n       [-0.49049298, -0.52616026, -0.50487981, -0.50233891, -0.88255251,\n        -0.7200955 , -0.50719167],\n       [-0.45657903, -0.44822656, -0.48192497, -0.50747021, -0.56450899,\n        -0.53271331, -0.50513829],\n       [-0.34969872, -0.36422011, -0.41723406, -0.43460575, -0.46479419,\n        -0.46253499, -0.43840327],\n       [-0.42574817, -0.38952326, -0.42349447, -0.35455747, -0.1552001 ,\n        -0.27634108, -0.36037464],\n       [-0.49254837, -0.48061459, -0.48296837, -0.44692087, -0.54943629,\n        -0.52649401, -0.45277697],\n       [-0.48740989, -0.50794199, -0.47566456, -0.49823387, -0.59397682,\n        -0.55246321, -0.49897813],\n       [-0.41649891, -0.45632357, -0.46105694, -0.48797127, -1.00576077,\n        -0.78956917, -0.4897379 ],\n       [-0.51412997, -0.53020876, -0.50487981, -0.51568029, -0.77148333,\n        -0.65700744, -0.51643191],\n       [-0.48740989, -0.5119905 , -0.48609858, -0.51670655, -0.82853925,\n        -0.6883578 , -0.51129844],\n       [-0.49768685, -0.52211176, -0.47462116, -0.49823387, -0.84250927,\n        -0.69601047, -0.49897813],\n       [-0.48740989, -0.47757821, -0.50696662, -0.51260151, -0.34148169,\n        -0.40605795, -0.51129844],\n       [-0.45349595, -0.48567522, -0.5591367 , -0.52081159,  0.29858094,\n        -0.0498377 , -0.50924506],\n       [-0.42780356, -0.44519018, -0.41723406, -0.40792299, -0.28763101,\n        -0.36414441, -0.4209495 ],\n       [-0.4421913 , -0.45531144, -0.45375313, -0.44794713, -0.58299399,\n        -0.54191972, -0.45585705],\n       [-0.42163739, -0.45328719, -0.42975488, -0.46334103, -0.7550899 ,\n        -0.64146356, -0.45380366],\n       [-0.40622196, -0.43506892, -0.39740943, -0.42844819, -0.88059963,\n        -0.71392871, -0.43121643],\n       [-0.36408645, -0.40470515, -0.40158304, -0.41613307, -0.4591378 ,\n        -0.46318712, -0.42916304],\n       [-0.40930505, -0.42292341, -0.38801881, -0.38842405, -0.49830406,\n        -0.48670755, -0.39117542],\n       [-0.42060969, -0.4300083 , -0.39219242, -0.41613307, -0.75830661,\n        -0.64060573, -0.41273596],\n       [-0.3743634 , -0.38749901, -0.39949623, -0.39971291, -0.6787093 ,\n        -0.59151219, -0.40452242],\n       [-0.40313887, -0.42494767, -0.4370587 , -0.40073917, -0.52558947,\n        -0.50626268, -0.4076025 ],\n       [-0.30550782, -0.34701397, -0.39427922, -0.38945031, -0.61919458,\n        -0.55282647, -0.40246903],\n       [-0.31784016, -0.30349255, -0.33897893, -0.33403226, -0.24356388,\n        -0.31698757, -0.33676071],\n       [-0.36614184, -0.3561231 , -0.33271852, -0.32171714, -0.6956316 ,\n        -0.59629156, -0.32238701],\n       [-0.31270168, -0.3287957 , -0.36089037, -0.37508267, -0.51809066,\n        -0.49204932, -0.3788551 ],\n       [-0.31270168, -0.32575932, -0.29202585, -0.3124808 , -0.6133627 ,\n        -0.54324586, -0.31212009],\n       [-0.30756321, -0.3247472 , -0.33793553, -0.33608478, -0.20180828,\n        -0.29460071, -0.34600094],\n       [-0.40313887, -0.26806815, -0.36819418, -0.3227434 ,  2.30835721,\n         1.25725298, -0.32957386],\n       [-0.44630208, -0.44721444, -0.42140767, -0.40997551, -0.35265149,\n        -0.40298113, -0.41376265],\n       [-0.5079638 , -0.48769947, -0.50279301, -0.45102591, -0.37941712,\n        -0.42545771, -0.46099051],\n       [-0.52029614, -0.53729364, -0.50279301, -0.51875907, -0.79628125,\n        -0.6710326 , -0.50924506],\n       [-0.58401325, -0.5666453 , -0.54244228, -0.53107419, -0.77647792,\n        -0.66196406, -0.53285899],\n       [-0.56345935, -0.59296057, -0.58730855, -0.58341346, -0.52391441,\n        -0.52620734, -0.6006207 ],\n       [-0.54290544, -0.55146341, -0.54452908, -0.57930842, -0.6460568 ,\n        -0.58936104, -0.57392669],\n       [-0.51618536, -0.53122089, -0.52679125, -0.54133679, -0.73461902,\n        -0.63709998, -0.54620599],\n       [-0.48021602, -0.50794199, -0.50383641, -0.53210045, -0.5384396 ,\n        -0.52296638, -0.5308056 ],\n       [-0.53982235, -0.49579648, -0.51009682, -0.50233891,  0.05889433,\n        -0.17686727, -0.50000483],\n       [-0.57784708, -0.56158467, -0.57165752, -0.53107419, -0.23452389,\n        -0.35608032, -0.5318323 ],\n       [-0.54907161, -0.57676656, -0.57374433, -0.59470232, -0.6232199 ,\n        -0.57856589, -0.58830039],\n       [-0.51721306, -0.53324514, -0.54765928, -0.55365192, -0.57732899,\n        -0.54952206, -0.55339284],\n       [-0.55934857, -0.5474149 , -0.52783465, -0.50644395, -0.60368578,\n        -0.56282725, -0.51129844],\n       [-0.55318239, -0.5393179 , -0.53618186, -0.54031053, -0.11330917,\n        -0.28816038, -0.55031276],\n       [-0.52851771, -0.54640278, -0.53826867, -0.55570444, -0.6037049 ,\n        -0.564753  , -0.56057969],\n       [-0.51104688, -0.516039  , -0.50696662, -0.54133679, -0.58514532,\n        -0.55073878, -0.53799245],\n       [-0.48432681, -0.48162672, -0.4965326 , -0.52491663, -0.42836024,\n        -0.45932686, -0.52464545],\n       [-0.43602512, -0.46948121, -0.45897013, -0.48489249, -0.55239144,\n        -0.52657279, -0.48255105],\n       [-0.45246825, -0.45531144, -0.42975488, -0.44897339, -0.35180989,\n        -0.40516729, -0.44456343],\n       [-0.44630208, -0.44923869, -0.46314374, -0.47052485,  0.0975762 ,\n        -0.14513176, -0.45585705],\n       [-0.52851771, -0.47555396, -0.52574785, -0.44999965,  0.16629922,\n        -0.11333279, -0.44661681],\n       [-0.54393314, -0.55348766, -0.51114022, -0.53312671, -0.81737471,\n        -0.68392638, -0.54004584],\n       [-0.55934857, -0.5666453 , -0.53096486, -0.56391452, -0.76704391,\n        -0.6567142 , -0.56057969],\n       [-0.52440692, -0.55551191, -0.52783465, -0.55467818, -0.77425247,\n        -0.6602462 , -0.55544622],\n       [-0.57681939, -0.57373018, -0.56539711, -0.54954688, -0.02907065,\n        -0.24473469, -0.54312591],\n       [-0.67239505, -0.62737285, -0.65095606, -0.58957102, -0.10776277,\n        -0.30227964, -0.59446054],\n       [-0.63539802, -0.65368813, -0.63843524, -0.64806784, -0.89545619,\n        -0.73350354, -0.65400871],\n       [-0.63128724, -0.65065175, -0.63008802, -0.64088402, -0.45926978,\n        -0.49550692, -0.65092863],\n       [-0.64773037, -0.66077301, -0.64052204, -0.64601532,  0.09351932,\n        -0.19746843, -0.64271509],\n       [-0.69294896, -0.67393065, -0.66556368, -0.66654052, -0.34864195,\n        -0.44187693, -0.66632902],\n       [-0.64259189, -0.65166388, -0.65199946, -0.67167182,  0.51983658,\n         0.02897149, -0.67762264],\n       [-0.73405677, -0.68303978, -0.736515  , -0.67372434,  0.81206127,\n         0.1746152 , -0.67248918],\n       [-0.77516459, -0.781216  , -0.75633964, -0.78250791, -0.80448729,\n        -0.69312403, -0.7792652 ],\n       [-0.8162724 , -0.7619856 , -0.80955313, -0.7414575 , -0.33083502,\n        -0.44940705, -0.74743773],\n       [-0.81318931, -0.82574954, -0.81790034, -0.84100473, -0.65785541,\n        -0.62318862, -0.83367991],\n       [-0.77721998, -0.80145852, -0.78451149, -0.80611189, -0.60069046,\n        -0.59160192, -0.80801259],\n       [-0.69397666, -0.72959757, -0.76260005, -0.76916653, -0.72532704,\n        -0.65223026, -0.78439867],\n       [-0.74638912, -0.72858545, -0.72399418, -0.7260636 , -0.75552695,\n        -0.66334929, -0.7248505 ],\n       [-0.75461068, -0.75996135, -0.731298  , -0.75274637, -0.90921868,\n        -0.74574738, -0.75770466],\n       [-0.73919525, -0.73870671, -0.736515  , -0.73016864, -0.49143262,\n        -0.5252751 , -0.72998396],\n       [-0.75666607, -0.76299773, -0.74590562, -0.76814027, -0.96033657,\n        -0.77272103, -0.76283812],\n       [-0.77516459, -0.77210686, -0.736515  , -0.74453628, -0.91841838,\n        -0.75090752, -0.7515445 ],\n       [-0.73200138, -0.75085222, -0.74173201, -0.76506149, -0.85488982,\n        -0.71770362, -0.76694489],\n       [-0.67239505, -0.70834293, -0.69895254, -0.7260636 , -0.74509546,\n        -0.65790029, -0.72690388],\n       [-0.64156419, -0.66785789, -0.65095606, -0.67372434, -0.63276819,\n        -0.59424545, -0.67659595],\n       [-0.64567497, -0.6486275 , -0.6133936 , -0.63267394, -0.8245957 ,\n        -0.6944086 , -0.63963501],\n       [-0.66622888, -0.67797915, -0.64052204, -0.6439628 , -0.79955869,\n        -0.682795  , -0.66016887],\n       [-0.68267201, -0.68810041, -0.68225811, -0.6901445 ,  0.15326117,\n        -0.17228923, -0.68583618],\n       [-0.76488763, -0.61320309, -0.72608099, -0.65627792,  0.01121455,\n        -0.24267763, -0.67454256],\n       [-0.65184115, -0.63749411, -0.62800122, -0.64293654, -0.71731179,\n        -0.63592921, -0.64066171],\n       [-0.66006271, -0.65773663, -0.736515  , -0.62959516, -0.83661427,\n        -0.70136756, -0.63244817],\n       [-0.60867794, -0.62737285, -0.63008802, -0.664488  , -0.80202275,\n        -0.68275999, -0.65400871],\n       [-0.5737363 , -0.60814246, -0.56435371, -0.5977811 , -0.9823577 ,\n        -0.77898191, -0.59138046],\n       [-0.60456716, -0.60713033, -0.56435371, -0.58957102, -0.97661954,\n        -0.77573002, -0.586247  ],\n       [-0.56757013, -0.58688782, -0.54765928, -0.5823872 , -0.80191468,\n        -0.67760642, -0.5729    ]])"
     },
     "execution_count": 18,
     "metadata": {},
     "output_type": "execute_result"
    }
   ],
   "source": [
    "np.array(predata.__getitem__(0)[0])"
   ],
   "metadata": {
    "collapsed": false
   }
  },
  {
   "cell_type": "code",
   "execution_count": 36,
   "outputs": [
    {
     "data": {
      "text/plain": "<Figure size 432x288 with 1 Axes>",
      "image/png": "[encoded data removed]"
     },
     "metadata": {
      "needs_background": "light"
     },
     "output_type": "display_data"
    }
   ],
   "source": [
    "import os\n",
    "import matplotlib.pyplot  as plt\n",
    "os.getcwd()\n",
    "prediction = np.load('../results/test/real_prediction.npy')\n",
    "plt.figure()\n",
    "plt.plot(prediction[0,:,-1])\n",
    "plt.show()"
   ],
   "metadata": {
    "collapsed": false
   }
  },
  {
   "cell_type": "code",
   "execution_count": 40,
   "outputs": [
    {
     "data": {
      "text/plain": "<Figure size 432x288 with 1 Axes>",
      "image/png": "[encoded data removed]"
     },
     "metadata": {
      "needs_background": "light"
     },
     "output_type": "display_data"
    }
   ],
   "source": [
    "preds = np.load('../results/test/true.npy')\n",
    "trues = np.load('../results/test/pred.npy')\n",
    "\n",
    "plt.figure()\n",
    "plt.plot(trues[:, 0,-1], label='GroundTruth')\n",
    "plt.plot(preds[:, 0,-1], label='Prediction')\n",
    "plt.legend()\n",
    "plt.show()"
   ],
   "metadata": {
    "collapsed": false
   }
  },
  {
   "cell_type": "code",
   "execution_count": null,
   "outputs": [],
   "source": [],
   "metadata": {
    "collapsed": false
   }
  }
 ],
 "metadata": {
  "kernelspec": {
   "name": "pt",
   "language": "python",
   "display_name": "pt"
  },
  "language_info": {
   "codemirror_mode": {
    "name": "ipython",
    "version": 2
   },
   "file_extension": ".py",
   "mimetype": "text/x-python",
   "name": "python",
   "nbconvert_exporter": "python",
   "pygments_lexer": "ipython2",
   "version": "2.7.6"
  }
 },
 "nbformat": 4,
 "nbformat_minor": 0
}
